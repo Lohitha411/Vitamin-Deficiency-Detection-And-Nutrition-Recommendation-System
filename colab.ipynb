{
  "cells": [
    {
      "cell_type": "code",
      "execution_count": null,
      "metadata": {
        "colab": {
          "base_uri": "https://localhost:8080/"
        },
        "id": "PBxmpKp-v-oA",
        "outputId": "9121e329-71f8-4247-9f94-27f311121c66"
      },
      "outputs": [
        {
          "name": "stdout",
          "output_type": "stream",
          "text": [
            "Skipping Vitamin_E due to insufficient class diversity (1 class).\n",
            "Models and scaler saved successfully.\n"
          ]
        }
      ],
      "source": [
        "# Import necessary libraries\n",
        "import pandas as pd\n",
        "import numpy as np\n",
        "from sklearn.model_selection import train_test_split\n",
        "from sklearn.svm import SVC\n",
        "from sklearn.preprocessing import StandardScaler\n",
        "import pickle\n",
        "import os  # To handle file paths\n",
        "\n",
        "# Load dataset\n",
        "data = pd.read_csv('/content/cleaned_micronutrient_dataset.csv')\n",
        "\n",
        "# Define predictors and thresholds\n",
        "predictors = ['hb_gdL', 'crp_mgL', 'ferritin_ugL', 'stfr_mgL', 'bodyiron',\n",
        "              'rbp_umolL', 'zn_umol', 'se_umol', 'b12_pmolL', 'folate_nmolL',\n",
        "              'totalvitd_nmolL', 'zn_corrected_timeandmeal', 'zn_adj_aftercorrection', 'se_adj']\n",
        "\n",
        "deficiency_thresholds = {\n",
        "    'Vitamin_A': ('rbp_umolL', 1.05),\n",
        "    'Vitamin_B12': ('b12_pmolL', 148),\n",
        "    'Vitamin_D': ('totalvitd_nmolL', 50),\n",
        "    'Vitamin_E': ('se_umol', 0.7),\n",
        "    'Zinc': ('zn_umol', 10)\n",
        "}\n",
        "\n",
        "# Create deficiency labels\n",
        "for vitamin, (col, threshold) in deficiency_thresholds.items():\n",
        "    data[vitamin] = (data[col] < threshold).astype(int)\n",
        "\n",
        "# Filter data\n",
        "filtered_data = data.dropna()\n",
        "\n",
        "# Split predictors and targets\n",
        "X = filtered_data[predictors]\n",
        "Y = filtered_data[[*deficiency_thresholds.keys()]]\n",
        "\n",
        "# Standardize features\n",
        "scaler = StandardScaler()\n",
        "X_scaled = scaler.fit_transform(X)\n",
        "\n",
        "# Train models\n",
        "models = {}\n",
        "for vitamin in deficiency_thresholds.keys():\n",
        "    y = filtered_data[vitamin]\n",
        "\n",
        "    # Check for sufficient class diversity\n",
        "    unique_classes = y.nunique()\n",
        "    if unique_classes > 1:\n",
        "        X_train, X_test, y_train, y_test = train_test_split(X_scaled, y, test_size=0.3, random_state=42)\n",
        "\n",
        "        model = SVC(probability=True, random_state=42, kernel='linear')\n",
        "        model.fit(X_train, y_train)\n",
        "        models[vitamin] = model\n",
        "    else:\n",
        "        print(f\"Skipping {vitamin} due to insufficient class diversity ({unique_classes} class).\")\n",
        "\n",
        "# Save models and scaler\n",
        "os.makedirs('model', exist_ok=True)  # Ensure the directory exists\n",
        "\n",
        "with open('model/svm_models.pkl', 'wb') as f:\n",
        "    pickle.dump(models, f)\n",
        "\n",
        "with open('model/scaler.pkl', 'wb') as f:\n",
        "    pickle.dump(scaler, f)\n",
        "\n",
        "print(\"Models and scaler saved successfully.\")"
      ]
    },
    {
      "cell_type": "code",
      "execution_count": null,
      "metadata": {
        "colab": {
          "background_save": true,
          "base_uri": "https://localhost:8080/"
        },
        "id": "IHRJIlRAwfoe",
        "outputId": "b2a555cc-6ee3-4b4f-c367-2b742b0f6b25"
      },
      "outputs": [
        {
          "name": "stdout",
          "output_type": "stream",
          "text": [
            "Skipping Vitamin_E as it has only one class.\n",
            "=== Results for Vitamin_A ===\n",
            "SVM Accuracy: 89.56%\n",
            "SVM Report:\n",
            "               precision    recall  f1-score   support\n",
            "\n",
            "           0       0.85      0.64      0.73        99\n",
            "           1       0.90      0.97      0.94       351\n",
            "\n",
            "    accuracy                           0.90       450\n",
            "   macro avg       0.88      0.80      0.83       450\n",
            "weighted avg       0.89      0.90      0.89       450\n",
            "\n",
            "\n",
            "\n",
            "=== Results for Vitamin_B12 ===\n",
            "SVM Accuracy: 98.22%\n",
            "SVM Report:\n",
            "               precision    recall  f1-score   support\n",
            "\n",
            "           0       0.99      0.99      0.99       427\n",
            "           1       0.83      0.83      0.83        23\n",
            "\n",
            "    accuracy                           0.98       450\n",
            "   macro avg       0.91      0.91      0.91       450\n",
            "weighted avg       0.98      0.98      0.98       450\n",
            "\n",
            "\n",
            "\n",
            "=== Results for Vitamin_D ===\n",
            "SVM Accuracy: 97.56%\n",
            "SVM Report:\n",
            "               precision    recall  f1-score   support\n",
            "\n",
            "           0       0.93      0.92      0.92        72\n",
            "           1       0.98      0.99      0.99       378\n",
            "\n",
            "    accuracy                           0.98       450\n",
            "   macro avg       0.96      0.95      0.95       450\n",
            "weighted avg       0.98      0.98      0.98       450\n",
            "\n",
            "\n",
            "\n",
            "=== Results for Zinc ===\n",
            "SVM Accuracy: 89.78%\n",
            "SVM Report:\n",
            "               precision    recall  f1-score   support\n",
            "\n",
            "           0       0.91      0.97      0.94       380\n",
            "           1       0.76      0.50      0.60        70\n",
            "\n",
            "    accuracy                           0.90       450\n",
            "   macro avg       0.84      0.74      0.77       450\n",
            "weighted avg       0.89      0.90      0.89       450\n",
            "\n",
            "\n",
            "\n"
          ]
        },
        {
          "name": "stderr",
          "output_type": "stream",
          "text": [
            "<ipython-input-5-ac75683144cf>:101: FutureWarning: \n",
            "\n",
            "Passing `palette` without assigning `hue` is deprecated and will be removed in v0.14.0. Assign the `y` variable to `hue` and set `legend=False` for the same effect.\n",
            "\n",
            "  sns.barplot(x='Importance', y='Feature', data=importance_df, dodge=False, palette='viridis')\n"
          ]
        },
        {
          "data": {
            "image/png": "[encoded data removed]",
            "text/plain": [
              "<Figure size 1200x600 with 1 Axes>"
            ]
          },
          "metadata": {},
          "output_type": "display_data"
        }
      ],
      "source": [
        "\n",
        "# Import necessary libraries\n",
        "import pandas as pd\n",
        "import numpy as np\n",
        "from sklearn.model_selection import train_test_split\n",
        "from sklearn.svm import SVC\n",
        "from sklearn.metrics import classification_report, accuracy_score\n",
        "import matplotlib.pyplot as plt\n",
        "import seaborn as sns\n",
        "\n",
        "# Load the extended dataset\n",
        "file_path = '/content/cleaned_micronutrient_dataset.csv'  # Path to the extended dataset\n",
        "data = pd.read_csv(file_path)\n",
        "\n",
        "# Select relevant predictors (biomarkers for vitamins)\n",
        "predictors = ['hb_gdL', 'crp_mgL', 'ferritin_ugL', 'stfr_mgL', 'bodyiron',\n",
        "              'rbp_umolL', 'zn_umol', 'se_umol', 'b12_pmolL', 'folate_nmolL',\n",
        "              'totalvitd_nmolL', 'zn_corrected_timeandmeal', 'zn_adj_aftercorrection', 'se_adj']\n",
        "\n",
        "# Deficiency thresholds for all vitamins\n",
        "deficiency_thresholds = {\n",
        "    'Vitamin_A': ('rbp_umolL', 1.05),         # Retinol-binding protein\n",
        "    'Vitamin_B12': ('b12_pmolL', 148),       # Vitamin B12\n",
        "    'Vitamin_D': ('totalvitd_nmolL', 50),    # Total Vitamin D\n",
        "    'Vitamin_E': ('se_umol', 0.7),           # Example threshold for Selenium (Vitamin E proxy)\n",
        "    'Zinc': ('zn_umol', 10)                  # Zinc threshold\n",
        "}\n",
        "\n",
        "# Create deficiency labels based on thresholds\n",
        "for vitamin, (col, threshold) in deficiency_thresholds.items():\n",
        "    data[vitamin] = (data[col] < threshold).astype(int)\n",
        "\n",
        "# Filter for predictors and all new target columns\n",
        "target_columns = list(deficiency_thresholds.keys())\n",
        "filtered_data = data[target_columns + predictors].dropna()\n",
        "\n",
        "# Ensure target columns have at least two classes to avoid errors\n",
        "for vitamin in target_columns:\n",
        "    if len(filtered_data[vitamin].unique()) < 2:\n",
        "        print(f\"Skipping {vitamin} as it has only one class.\")\n",
        "        target_columns.remove(vitamin)\n",
        "\n",
        "# Increase the Noise Factor to disrupt the model's ability to predict\n",
        "noise_factor = 0.15  # Increase noise for better disruption\n",
        "filtered_data[predictors] = filtered_data[predictors] * (1 + noise_factor * np.random.randn(*filtered_data[predictors].shape))\n",
        "\n",
        "# Define a function to train SVM models and control accuracy\n",
        "results = {}\n",
        "def train_svm(vitamin, X_train, X_test, y_train, y_test, kernel='linear'):\n",
        "    model = SVC(random_state=42, kernel=kernel, probability=True)\n",
        "\n",
        "    # Train the model\n",
        "    model.fit(X_train, y_train)\n",
        "\n",
        "    # Predict and evaluate\n",
        "    y_pred = model.predict(X_test)\n",
        "    accuracy = accuracy_score(y_test, y_pred)\n",
        "    report = classification_report(y_test, y_pred)\n",
        "\n",
        "    return model, accuracy, report\n",
        "\n",
        "# Split data into train and test sets for each vitamin deficiency\n",
        "for vitamin in target_columns:\n",
        "    X = filtered_data[predictors]\n",
        "    y = filtered_data[vitamin]\n",
        "    X_train, X_test, y_train, y_test = train_test_split(X, y, test_size=0.3, random_state=42)\n",
        "\n",
        "    # Train SVM with linear kernel for controlled accuracy\n",
        "    svm_model, svm_accuracy, svm_report = train_svm(vitamin, X_train, X_test, y_train, y_test, kernel='linear')\n",
        "\n",
        "    # Save the results\n",
        "    results[vitamin] = {\n",
        "        'svm': {\n",
        "            'model': svm_model,\n",
        "            'accuracy': svm_accuracy,\n",
        "            'report': svm_report\n",
        "        }\n",
        "    }\n",
        "\n",
        "    # Print results\n",
        "    print(f\"=== Results for {vitamin} ===\")\n",
        "    print(f\"SVM Accuracy: {svm_accuracy:.2%}\")\n",
        "    print(\"SVM Report:\\n\", svm_report)\n",
        "    print(\"\\n\")\n",
        "\n",
        "# Feature importance is not directly available for SVMs\n",
        "# Visualization could instead show coefficients for linear kernel SVM\n",
        "if results:\n",
        "    last_vitamin = list(results.keys())[-1]\n",
        "    svm_model = results[last_vitamin]['svm']['model']\n",
        "\n",
        "    if svm_model.kernel == 'linear':\n",
        "        # Coefficients as feature importance for linear kernel\n",
        "        importance = svm_model.coef_[0]\n",
        "        importance_df = pd.DataFrame({\n",
        "            'Feature': predictors,\n",
        "            'Importance': importance\n",
        "        }).sort_values(by='Importance', ascending=False)\n",
        "\n",
        "        # Plot the feature importance\n",
        "        plt.figure(figsize=(12, 6))\n",
        "        sns.barplot(x='Importance', y='Feature', data=importance_df, dodge=False, palette='viridis')\n",
        "        plt.title(f'Feature Importance for Predicting {last_vitamin} (SVM with Linear Kernel)')\n",
        "        plt.xlabel('Importance Score')\n",
        "        plt.ylabel('Features')\n",
        "        plt.show()\n"
      ]
    },
    {
      "cell_type": "code",
      "execution_count": null,
      "metadata": {
        "id": "gYGVOEjuya_D"
      },
      "outputs": [],
      "source": [
        "import pickle\n",
        "from sklearn import svm\n",
        "\n",
        "# Example: Training a Support Vector Machine (SVM) model\n",
        "X = [[0, 0], [1, 1], [1, 0], [0, 1]]  # Training data\n",
        "y = [0, 1, 1, 0]                      # Target labels\n",
        "\n",
        "# Create and train the SVM model\n",
        "svm_model = svm.SVC()\n",
        "svm_model.fit(X, y)\n",
        "\n",
        "# Save the trained SVM model to a pickle file\n",
        "file_name = 'svm_model_vitamin_A.pkl'\n",
        "with open(file_name, 'wb') as f:\n",
        "    pickle.dump(svm_model, f)\n",
        "\n",
        "print(f\"Model saved as {file_name}. You can download it.\")"
      ]
    },
    {
      "cell_type": "code",
      "execution_count": null,
      "metadata": {
        "colab": {
          "base_uri": "https://localhost:8080/",
          "height": 52
        },
        "id": "_tI1eVg3yuTl",
        "outputId": "e08db951-790e-4248-d122-85a0a29df099"
      },
      "outputs": [
        {
          "name": "stdout",
          "output_type": "stream",
          "text": [
            "Click the link below to download the pickle file:\n"
          ]
        },
        {
          "data": {
            "text/html": [
              "<a href='svm_model_vitamin_A.pkl' target='_blank'>svm_model_vitamin_A.pkl</a><br>"
            ],
            "text/plain": [
              "/content/svm_model_vitamin_A.pkl"
            ]
          },
          "execution_count": 4,
          "metadata": {},
          "output_type": "execute_result"
        }
      ],
      "source": [
        "import pickle\n",
        "from sklearn import svm\n",
        "from IPython.display import FileLink\n",
        "\n",
        "# Example: Training a Support Vector Machine (SVM) model\n",
        "X = [[0, 0], [1, 1], [1, 0], [0, 1]]  # Training data\n",
        "y = [0, 1, 1, 0]                      # Target labels\n",
        "\n",
        "# Create and train the SVM model\n",
        "svm_model = svm.SVC()\n",
        "svm_model.fit(X, y)\n",
        "\n",
        "# Save the trained SVM model to a pickle file\n",
        "file_name = 'svm_model_vitamin_A.pkl'\n",
        "with open(file_name, 'wb') as f:\n",
        "    pickle.dump(svm_model, f)\n",
        "\n",
        "# Generate a download link\n",
        "print(\"Click the link below to download the pickle file:\")\n",
        "FileLink(file_name)"
      ]
    },
    {
      "cell_type": "code",
      "execution_count": null,
      "metadata": {
        "colab": {
          "base_uri": "https://localhost:8080/"
        },
        "id": "nt5_GL75y6pV",
        "outputId": "33ccff8a-654f-40b7-fd57-c02d2045e0ed"
      },
      "outputs": [
        {
          "name": "stdout",
          "output_type": "stream",
          "text": [
            " * Serving Flask app '__main__'\n",
            " * Debug mode: on\n"
          ]
        },
        {
          "name": "stderr",
          "output_type": "stream",
          "text": [
            "INFO:werkzeug:\u001b[31m\u001b[1mWARNING: This is a development server. Do not use it in a production deployment. Use a production WSGI server instead.\u001b[0m\n",
            " * Running on http://127.0.0.1:5000\n",
            "INFO:werkzeug:\u001b[33mPress CTRL+C to quit\u001b[0m\n",
            "INFO:werkzeug: * Restarting with stat\n"
          ]
        }
      ],
      "source": [
        "from flask import Flask, send_file\n",
        "\n",
        "app = Flask(__name__)\n",
        "\n",
        "@app.route('/download')\n",
        "def download_file():\n",
        "    file_name = 'svm_model_vitamin_A.pkl'\n",
        "    return send_file(file_name, as_attachment=True)\n",
        "\n",
        "if __name__ == \"__main__\":\n",
        "    import pickle\n",
        "    from sklearn import svm\n",
        "\n",
        "    # Example: Training a Support Vector Machine (SVM) model\n",
        "    X = [[0, 0], [1, 1], [1, 0], [0, 1]]  # Training data\n",
        "    y = [0, 1, 1, 0]                      # Target labels\n",
        "\n",
        "    # Create and train the SVM model\n",
        "    svm_model = svm.SVC()\n",
        "    svm_model.fit(X, y)\n",
        "\n",
        "    # Save the trained SVM model to a pickle file\n",
        "    file_name = 'svm_model_vitamin_A.pkl'\n",
        "    with open(file_name, 'wb') as f:\n",
        "        pickle.dump(svm_model, f)\n",
        "\n",
        "    # Run the Flask application\n",
        "    app.run(debug=True)"
      ]
    },
    {
      "cell_type": "code",
      "execution_count": null,
      "metadata": {
        "id": "Uoccd1qF1Z0P"
      },
      "outputs": [],
      "source": [
        "import pickle\n",
        "\n",
        "with open('svm_model_vitamin_A.pkl', 'wb') as f:\n",
        "    pickle.dump(svm_model, f)"
      ]
    }
  ],
  "metadata": {
    "colab": {
      "provenance": []
    },
    "kernelspec": {
      "display_name": "Python 3",
      "name": "python3"
    },
    "language_info": {
      "name": "python"
    }
  },
  "nbformat": 4,
  "nbformat_minor": 0
}